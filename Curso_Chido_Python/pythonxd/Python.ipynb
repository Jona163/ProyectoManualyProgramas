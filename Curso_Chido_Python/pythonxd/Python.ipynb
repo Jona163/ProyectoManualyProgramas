{
 "cells": [
  {
   "cell_type": "markdown",
   "id": "ac7ff240",
   "metadata": {},
   "source": [
    "# Acceder a los elementos del Array."
   ]
  },
  {
   "cell_type": "markdown",
   "id": "4df777b2",
   "metadata": {},
   "source": [
    "### Array dimensional "
   ]
  },
  {
   "cell_type": "code",
   "execution_count": null,
   "id": "7607afa6",
   "metadata": {},
   "outputs": [],
   "source": [
    "## Crear un array unidimensional\n",
    "import numpy\n",
    "array_uni = np.array([1,3,5,7,9])\n",
    "print(\"Saper: \", array_uni.shape)\n",
    "print(\"array_uni: \", array_unit)"
   ]
  },
  {
   "cell_type": "code",
   "execution_count": null,
   "id": "3939fc14",
   "metadata": {},
   "outputs": [],
   "source": [
    "#Acceder al 5 elemento del Array \n",
    "array_uni[4]\n"
   ]
  },
  {
   "cell_type": "code",
   "execution_count": null,
   "id": "101f2d00",
   "metadata": {},
   "outputs": [],
   "source": [
    "# Acceder al tercer elementon del array\n",
    "arrays([2:4])"
   ]
  },
  {
   "cell_type": "code",
   "execution_count": null,
   "id": "d517003b",
   "metadata": {},
   "outputs": [],
   "source": [
    "#Acceder a los elementos del array 0,3 y 5\n",
    "array_uni([0::2])"
   ]
  },
  {
   "cell_type": "markdown",
   "id": "6add2439",
   "metadata": {},
   "source": [
    "## Array multidimensional\n"
   ]
  },
  {
   "cell_type": "code",
   "execution_count": null,
   "id": "3553936d",
   "metadata": {},
   "outputs": [],
   "source": [
    "# Crear un Array Multidimensional\n",
    "import numpy\n",
    "array_multi = np.array([1,2,3,4],[5,6,7,8])\n",
    "print (\"Shape: \", array_multi.shape)\n",
    "print (\"Array_multi: \", array_multi)"
   ]
  },
  {
   "cell_type": "code",
   "execution_count": null,
   "id": "460cb407",
   "metadata": {},
   "outputs": [],
   "source": [
    "# Acceder al cuarto elemento del Array_multi\n",
    "array_multi[0, 3]\n"
   ]
  },
  {
   "cell_type": "code",
   "execution_count": null,
   "id": "340bb190",
   "metadata": {},
   "outputs": [],
   "source": [
    "# Acceder a la segunda fila del Array\n",
    "array_multi[1, :]"
   ]
  },
  {
   "cell_type": "code",
   "execution_count": null,
   "id": "de510499",
   "metadata": {},
   "outputs": [],
   "source": [
    "# Acceder al tercer elemento de las 2 dimensiones\n",
    "array_milti[0:2,2]"
   ]
  },
  {
   "cell_type": "markdown",
   "id": "ee81a493",
   "metadata": {},
   "source": [
    "# Modificacion del Array "
   ]
  },
  {
   "cell_type": "code",
   "execution_count": null,
   "id": "ba40f556",
   "metadata": {},
   "outputs": [],
   "source": [
    "# Crear un array unidimensional e iniciarlo  con el rango de elementos del 0 al 27\n",
    "array1 = np.arange(28)\n",
    "print (\"Shape: \", array1.shape)\n",
    "print (\"Array1: \", array1)"
   ]
  },
  {
   "cell_type": "code",
   "execution_count": null,
   "id": "9622df21",
   "metadata": {},
   "outputs": [],
   "source": [
    "# Cambiar las dimensiones del Array y sus longitudes.\n",
    "array1.shape = (7,4)\n",
    "print (\"Shape: \", array1.shape)\n",
    "print (\"Array1: \", array1)"
   ]
  },
  {
   "cell_type": "code",
   "execution_count": null,
   "id": "49e832b3",
   "metadata": {},
   "outputs": [],
   "source": [
    "# pi= el ejemplo anterior devuelve un array que apunta alos mismos datos.\n",
    "# importancia:Las modificaciones en un array , modifican el otro array\n",
    "array2 = array1.reshape(4,7)\n",
    "print (\"Shape: \", array2.shape)\n",
    "print (\"Array2: \", array2)"
   ]
  },
  {
   "cell_type": "code",
   "execution_count": null,
   "id": "6329be01",
   "metadata": {},
   "outputs": [],
   "source": [
    "# MOdificar el nuevo arreglo \n",
    "array2[0,3]=20\n",
    "array2(\"Array 2: \\n\", array2)"
   ]
  },
  {
   "cell_type": "code",
   "execution_count": null,
   "id": "2d98a79c",
   "metadata": {},
   "outputs": [],
   "source": [
    "print(\"Array1: \\n\", array1)"
   ]
  },
  {
   "cell_type": "code",
   "execution_count": null,
   "id": "c544afde",
   "metadata": {},
   "outputs": [],
   "source": [
    "# REgresar el array a su estado original \n",
    "# NOtra: El numero array apunta a los mismo datos.\n",
    "print(\"Array1:\\n\", array1.ravel())"
   ]
  }
 ],
 "metadata": {
  "kernelspec": {
   "display_name": "Python 3 (ipykernel)",
   "language": "python",
   "name": "python3"
  },
  "language_info": {
   "codemirror_mode": {
    "name": "ipython",
    "version": 3
   },
   "file_extension": ".py",
   "mimetype": "text/x-python",
   "name": "python",
   "nbconvert_exporter": "python",
   "pygments_lexer": "ipython3",
   "version": "3.9.7"
  }
 },
 "nbformat": 4,
 "nbformat_minor": 5
}
